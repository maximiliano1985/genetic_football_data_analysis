{
 "cells": [
  {
   "cell_type": "markdown",
   "metadata": {},
   "source": [
    "The Goal here (pun intended) is to design a prediction system which can accurately predict if the home team will win or not. We will use the final dataset got by our earlier \"Scraping and Cleaning\" Notebook build our prediction model on."
   ]
  },
  {
   "cell_type": "code",
   "execution_count": 1,
   "metadata": {
    "collapsed": false
   },
   "outputs": [],
   "source": [
    "# Import the necessary libraries.\n",
    "import pandas as pd\n",
    "import numpy as np\n",
    "import xgboost as xgb\n",
    "from time import time\n",
    "from sklearn.linear_model import LogisticRegression\n",
    "from sklearn.ensemble import RandomForestClassifier\n",
    "from sklearn.svm import SVC\n",
    "from IPython.display import display\n",
    "\n",
    "pd.options.mode.chained_assignment = None  # default='warn'\n",
    "\n",
    "%matplotlib inline"
   ]
  },
  {
   "cell_type": "code",
   "execution_count": 2,
   "metadata": {
    "collapsed": false
   },
   "outputs": [],
   "source": [
    "# Read data and drop redundant column.\n",
    "data = pd.read_csv('../Datasets/final_dataset_complete.csv')\n",
    "\n",
    "# Remove first 3 matchweeks\n",
    "data = data[data.MW > 3]\n",
    "\n",
    "teams = pd.concat([data['HomeTeam'], data['AwayTeam']], axis=1, keys=['HomeTeam', 'AwayTeam'])\n",
    "\n",
    "\n",
    "#data.drop(['Unnamed: 0','HomeTeam', 'AwayTeam','Date', 'MW', 'HTFormPtsStr', 'ATFormPtsStr', 'FTHG', 'FTAG',\n",
    "#           'HTGS', 'ATGS', 'HTGC', 'ATGC','HomeTeamLP', 'AwayTeamLP','DiffPts','HTFormPts','ATFormPts',\n",
    "#           'HM4','HM5','AM4','AM5','HTLossStreak5','ATLossStreak5','HTWinStreak5','ATWinStreak5',\n",
    "#           'HTWinStreak3','HTLossStreak3','ATWinStreak3','ATLossStreak3'],1, inplace=True)\n",
    "data.drop(['Unnamed: 0','HomeTeam', 'AwayTeam','Date', 'MW', 'HTFormPtsStr', 'ATFormPtsStr', 'FTHG', 'FTAG',\n",
    "           'HTGS', 'ATGS', 'HTGC', 'ATGC','HomeTeamLP', 'AwayTeamLP','DiffPts','HTFormPts','ATFormPts',\n",
    "           'HM4','AM4','HTLossStreak5','ATLossStreak5','HTWinStreak5','ATWinStreak5',\n",
    "           'HTWinStreak3','HTLossStreak3','ATWinStreak3','ATLossStreak3'],1, inplace=True)"
   ]
  },
  {
   "cell_type": "markdown",
   "metadata": {},
   "source": [
    "## Preparing the Data"
   ]
  },
  {
   "cell_type": "code",
   "execution_count": 3,
   "metadata": {
    "collapsed": true
   },
   "outputs": [],
   "source": [
    "# Separate into feature set and target variable\n",
    "X_all = data.drop(['FTR'],1)\n",
    "y_all = data['FTR']\n",
    "\n",
    "# Standardising the data.\n",
    "from sklearn.preprocessing import scale\n",
    "\n",
    "\n",
    "cols = [['HTGD','ATGD','HTP','ATP','DiffLP']]\n",
    "for col in cols:\n",
    "    X_all[col] = scale(X_all[col])"
   ]
  },
  {
   "cell_type": "code",
   "execution_count": 4,
   "metadata": {
    "collapsed": false
   },
   "outputs": [
    {
     "name": "stdout",
     "output_type": "stream",
     "text": [
      "Processed feature columns (24 total features):\n",
      "['HTP', 'ATP', 'HM1_D', 'HM1_L', 'HM1_W', 'HM2_D', 'HM2_L', 'HM2_W', 'HM3_D', 'HM3_L', 'HM3_W', 'AM1_D', 'AM1_L', 'AM1_W', 'AM2_D', 'AM2_L', 'AM2_W', 'AM3_D', 'AM3_L', 'AM3_W', 'HTGD', 'ATGD', 'DiffFormPts', 'DiffLP']\n"
     ]
    }
   ],
   "source": [
    "X_all.HM1 = X_all.HM1.astype('str')\n",
    "X_all.HM2 = X_all.HM2.astype('str')\n",
    "X_all.HM3 = X_all.HM3.astype('str')\n",
    "X_all.AM1 = X_all.AM1.astype('str')\n",
    "X_all.AM2 = X_all.AM2.astype('str')\n",
    "X_all.AM3 = X_all.AM3.astype('str')\n",
    "\n",
    "def preprocess_features(X):\n",
    "    ''' Preprocesses the football data and converts catagorical variables into dummy variables. '''\n",
    "    \n",
    "    # Initialize new output DataFrame\n",
    "    output = pd.DataFrame(index = X.index)\n",
    "\n",
    "    # Investigate each feature column for the data\n",
    "    for col, col_data in X.iteritems():\n",
    "\n",
    "        # If data type is categorical, convert to dummy variables\n",
    "        if col_data.dtype == object:\n",
    "            col_data = pd.get_dummies(col_data, prefix = col)\n",
    "                    \n",
    "        # Collect the revised columns\n",
    "        output = output.join(col_data)\n",
    "    \n",
    "    return output\n",
    "\n",
    "X_all = preprocess_features(X_all)\n",
    "print( \"Processed feature columns ({} total features):\\n{}\".format(len(X_all.columns), list(X_all.columns)) )"
   ]
  },
  {
   "cell_type": "markdown",
   "metadata": {},
   "source": [
    "## Training and Evaluating Models"
   ]
  },
  {
   "cell_type": "code",
   "execution_count": 5,
   "metadata": {
    "collapsed": true
   },
   "outputs": [],
   "source": [
    "from sklearn.metrics import f1_score\n",
    "   \n",
    "def predict_labels(clf, features, target):\n",
    "    ''' Makes predictions using a fit classifier based on F1 score. '''\n",
    "    \n",
    "    # Start the clock, make predictions, then stop the clock\n",
    "    start = time()\n",
    "    y_pred = clf.predict(features)\n",
    "    \n",
    "    end = time()\n",
    "    # Print and return results\n",
    "    print(\"Made predictions in {:.4f} seconds.\".format(end - start) )\n",
    "    \n",
    "    return f1_score(target, y_pred, pos_label='H'), sum(target == y_pred) / float(len(y_pred)), y_pred"
   ]
  },
  {
   "cell_type": "markdown",
   "metadata": {},
   "source": [
    "# STEP 1: select the portion of matches to be predicted (the X_test dataframe)"
   ]
  },
  {
   "cell_type": "code",
   "execution_count": 6,
   "metadata": {
    "collapsed": true
   },
   "outputs": [],
   "source": [
    "N_MATCHES_TO_PREDICT = 10\n",
    "\n",
    "X_train = X_all.iloc[:-N_MATCHES_TO_PREDICT, :]\n",
    "y_train = y_all[:-N_MATCHES_TO_PREDICT]\n",
    "X_test  = X_all.iloc[-N_MATCHES_TO_PREDICT:, :]\n",
    "y_test  = y_all[-N_MATCHES_TO_PREDICT:]"
   ]
  },
  {
   "cell_type": "markdown",
   "metadata": {},
   "source": [
    "# STEP 2: load the previously trained classifier"
   ]
  },
  {
   "cell_type": "code",
   "execution_count": 7,
   "metadata": {
    "collapsed": false
   },
   "outputs": [
    {
     "name": "stdout",
     "output_type": "stream",
     "text": [
      "XGBClassifier(base_score=0.5, booster='gbtree', colsample_bylevel=1,\n",
      "       colsample_bytree=0.73651805870889131, gamma=0.01,\n",
      "       learning_rate=0.48237187313753049, max_delta_step=0, max_depth=9,\n",
      "       min_child_weight=0, missing=nan, n_estimators=76, n_jobs=1,\n",
      "       nthread=None, objective='binary:logistic', random_state=2,\n",
      "       reg_alpha=8.1959276142102205e-05, reg_lambda=1,\n",
      "       scale_pos_weight=1.4319919478841214, seed=None, silent=True,\n",
      "       subsample=1.0)\n"
     ]
    }
   ],
   "source": [
    "from sklearn.externals import joblib\n",
    "clf = joblib.load('football_classifier.pkl')\n",
    "print(clf)"
   ]
  },
  {
   "cell_type": "markdown",
   "metadata": {},
   "source": [
    "# STEP 3: make the predictions"
   ]
  },
  {
   "cell_type": "code",
   "execution_count": 8,
   "metadata": {
    "collapsed": false
   },
   "outputs": [
    {
     "name": "stdout",
     "output_type": "stream",
     "text": [
      "Made predictions in 0.0781 seconds.\n",
      "F1 score and accuracy score for training set: 0.9770 , 0.9787.\n",
      "Made predictions in 0.0014 seconds.\n",
      "F1 score and accuracy score for test set: 0.2500 , 0.4000.\n"
     ]
    }
   ],
   "source": [
    "# Report the final F1 score for training and testing after parameter tuning\n",
    "f1, acc, y_train_pred = predict_labels(clf, X_train, y_train)\n",
    "print(\"F1 score and accuracy score for training set: {:.4f} , {:.4f}.\".format(f1 , acc))\n",
    "    \n",
    "f1, acc, y_pred = predict_labels(clf, X_test, y_test)\n",
    "print(\"F1 score and accuracy score for test set: {:.4f} , {:.4f}.\".format(f1 , acc))"
   ]
  },
  {
   "cell_type": "markdown",
   "metadata": {
    "collapsed": true
   },
   "source": [
    "# STEP 4: store the predictions into a CSV file"
   ]
  },
  {
   "cell_type": "code",
   "execution_count": 9,
   "metadata": {
    "collapsed": false
   },
   "outputs": [
    {
     "name": "stdout",
     "output_type": "stream",
     "text": [
      "            HomeTeam     AwayTeam Predictions\n",
      "6500     Bournemouth     Brighton          NH\n",
      "6501  Crystal Palace  Southampton           H\n",
      "6502    Huddersfield    Leicester          NH\n",
      "6503       Liverpool      Burnley          NH\n",
      "6504       Newcastle        Stoke           H\n",
      "6505         Watford     Man City          NH\n",
      "6506       West Brom     West Ham           H\n",
      "6507       Tottenham      Swansea           H\n",
      "6508         Chelsea      Arsenal           H\n",
      "6509      Man United      Everton           H\n"
     ]
    }
   ],
   "source": [
    "teams_pred  = teams.iloc[-N_MATCHES_TO_PREDICT:, :]\n",
    "\n",
    "df_y_pred   = pd.DataFrame(y_pred,index=teams_pred.index.tolist(),columns=['Predictions']) \n",
    "\n",
    "predictions = pd.concat(\n",
    "    [teams_pred['HomeTeam'],\n",
    "     teams_pred['AwayTeam'],\n",
    "     df_y_pred['Predictions']],\n",
    "    axis=1, keys=['HomeTeam', 'AwayTeam', 'Predictions'])\n",
    "\n",
    "print(predictions)"
   ]
  },
  {
   "cell_type": "code",
   "execution_count": 10,
   "metadata": {
    "collapsed": true
   },
   "outputs": [],
   "source": [
    "predictions.to_csv('predictions.csv', sep=',')"
   ]
  },
  {
   "cell_type": "code",
   "execution_count": null,
   "metadata": {
    "collapsed": true
   },
   "outputs": [],
   "source": []
  }
 ],
 "metadata": {
  "anaconda-cloud": {},
  "kernelspec": {
   "display_name": "Python [conda root]",
   "language": "python",
   "name": "conda-root-py"
  },
  "language_info": {
   "codemirror_mode": {
    "name": "ipython",
    "version": 2
   },
   "file_extension": ".py",
   "mimetype": "text/x-python",
   "name": "python",
   "nbconvert_exporter": "python",
   "pygments_lexer": "ipython2",
   "version": "2.7.12"
  }
 },
 "nbformat": 4,
 "nbformat_minor": 1
}
