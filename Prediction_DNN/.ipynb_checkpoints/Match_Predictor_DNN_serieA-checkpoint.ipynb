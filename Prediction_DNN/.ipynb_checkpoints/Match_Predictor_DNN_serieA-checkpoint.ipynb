{
 "cells": [
  {
   "cell_type": "markdown",
   "metadata": {},
   "source": [
    "The Goal here (pun intended) is to design a prediction system which can accurately predict if the home team will win or not. We will use the final dataset got by our earlier \"Scraping and Cleaning\" Notebook build our prediction model on."
   ]
  },
  {
   "cell_type": "code",
   "execution_count": 1,
   "metadata": {
    "collapsed": false
   },
   "outputs": [],
   "source": [
    "# Import the necessary libraries.\n",
    "import pandas as pd\n",
    "from pandas.tools.plotting import scatter_matrix\n",
    "import numpy as np\n",
    "from time import time\n",
    "import tensorflow as tf\n",
    "from sklearn.metrics import confusion_matrix\n",
    "import itertools\n",
    "from IPython.display import display\n",
    "\n",
    "import matplotlib.pyplot as plt\n",
    "\n",
    "import warnings\n",
    "warnings.filterwarnings(\"ignore\")\n",
    "pd.options.mode.chained_assignment = None  # default='warn'\n",
    "\n",
    "\n",
    "\n",
    "%matplotlib inline"
   ]
  },
  {
   "cell_type": "code",
   "execution_count": 2,
   "metadata": {
    "collapsed": true
   },
   "outputs": [],
   "source": [
    "data = pd.read_csv('../Datasets/serie_A/final_dataset_serieA.csv')\n",
    "\n",
    "N_MATCHES_TO_PREDICT = 10\n",
    "\n",
    "classifierFilename = 'football_classifier_serieA_DNN_b'"
   ]
  },
  {
   "cell_type": "markdown",
   "metadata": {},
   "source": [
    "## Preparing the Data"
   ]
  },
  {
   "cell_type": "code",
   "execution_count": 3,
   "metadata": {
    "collapsed": false
   },
   "outputs": [],
   "source": [
    "# Remove first 3 matchweeks\n",
    "data = data[data.MW > 3]\n",
    "\n",
    "data_pred = data[-N_MATCHES_TO_PREDICT:]\n",
    "\n",
    "teams = pd.concat([data['Date'], data['HomeTeam'], data['AwayTeam']], axis=1, keys=['Date', 'HomeTeam', 'AwayTeam'])\n",
    "\n",
    "data.drop(['Unnamed: 0','HomeTeam', 'AwayTeam','Date', 'MW', 'HTFormPtsStr', 'ATFormPtsStr', 'FTHG', 'FTAG',\n",
    "           'HTGS', 'ATGS', 'HTGC', 'ATGC','HomeTeamLP', 'AwayTeamLP','DiffPts','HTFormPts','ATFormPts',\n",
    "           'HM4','AM4','HTLossStreak5','ATLossStreak5','HTWinStreak5','ATWinStreak5',\n",
    "           'HTWinStreak3','HTLossStreak3','ATWinStreak3','ATLossStreak3', 'ENTROPY_B365', 'ENTROPY_BW',\n",
    "           'ENTROPY_IW', 'ENTROPY_LB', 'ENTROPY_WH', 'ENTROPY_H', 'ENTROPY_D', 'ENTROPY_A',\n",
    "           'B365H', 'BWH', 'IWH', 'LBH', 'WHH', 'B365D', 'BWD', 'IWD', 'LBD', 'WHD', 'B365A', 'BWA', 'IWA',\n",
    "            'LBA', 'WHA'],1, inplace=True)\n",
    "\n",
    "data_pred.drop(['Unnamed: 0'],1, inplace=True)\n",
    "# ,'HomeTeam', 'AwayTeam'\n",
    "# Preview data.\n",
    "#display(data)\n"
   ]
  },
  {
   "cell_type": "code",
   "execution_count": 4,
   "metadata": {
    "collapsed": false
   },
   "outputs": [],
   "source": [
    "# Separate into feature set and target variable\n",
    "X_all_raw = data.drop(['FTR'],1)\n",
    "y_all_raw = data['FTR']\n",
    "\n",
    "# Standardising the data.\n",
    "from sklearn.preprocessing import scale\n",
    "\n",
    "\n",
    "cols = [['HTGD','ATGD','HTP','ATP','DiffLP']]\n",
    "for col in cols:\n",
    "    X_all_raw[col] = scale(X_all_raw[col])"
   ]
  },
  {
   "cell_type": "code",
   "execution_count": 5,
   "metadata": {
    "collapsed": false
   },
   "outputs": [
    {
     "name": "stdout",
     "output_type": "stream",
     "text": [
      "Processed feature columns (24 total features):\n",
      "['HTP', 'ATP', 'HM1_D', 'HM1_L', 'HM1_W', 'HM2_D', 'HM2_L', 'HM2_W', 'HM3_D', 'HM3_L', 'HM3_W', 'AM1_D', 'AM1_L', 'AM1_W', 'AM2_D', 'AM2_L', 'AM2_W', 'AM3_D', 'AM3_L', 'AM3_W', 'HTGD', 'ATGD', 'DiffFormPts', 'DiffLP']\n"
     ]
    }
   ],
   "source": [
    "X_all_raw.HM1 = X_all_raw.HM1.astype('str')\n",
    "X_all_raw.HM2 = X_all_raw.HM2.astype('str')\n",
    "X_all_raw.HM3 = X_all_raw.HM3.astype('str')\n",
    "X_all_raw.AM1 = X_all_raw.AM1.astype('str')\n",
    "X_all_raw.AM2 = X_all_raw.AM2.astype('str')\n",
    "X_all_raw.AM3 = X_all_raw.AM3.astype('str')\n",
    "\n",
    "def preprocess_features(X):\n",
    "    ''' Preprocesses the football data and converts catagorical variables into dummy variables. '''\n",
    "    \n",
    "    # Initialize new output DataFrame\n",
    "    output = pd.DataFrame(index = X.index)\n",
    "\n",
    "    # Investigate each feature column for the data\n",
    "    for col, col_data in X.iteritems():\n",
    "\n",
    "        # If data type is categorical, convert to dummy variables\n",
    "        if col_data.dtype == object:\n",
    "            col_data = pd.get_dummies(col_data, prefix = col)\n",
    "                    \n",
    "        # Collect the revised columns\n",
    "        output = output.join(col_data)\n",
    "    \n",
    "    return output\n",
    "\n",
    "def preprocess_labels(labels):\n",
    "    labels =  pd.get_dummies(labels) # A [1, 0, 0] || D [0, 1, 0] || H [0, 0, 1]\n",
    "    return labels\n",
    "\n",
    "\n",
    "X_all_raw = preprocess_features(X_all_raw)\n",
    "y_all_raw = preprocess_labels(y_all_raw)\n",
    "print( \"Processed feature columns ({} total features):\\n{}\".format(len(X_all_raw.columns), list(X_all_raw.columns)) )"
   ]
  },
  {
   "cell_type": "code",
   "execution_count": 6,
   "metadata": {
    "collapsed": false
   },
   "outputs": [
    {
     "name": "stdout",
     "output_type": "stream",
     "text": [
      "\n",
      "Feature values:\n"
     ]
    },
    {
     "data": {
      "text/html": [
       "<div>\n",
       "<style>\n",
       "    .dataframe thead tr:only-child th {\n",
       "        text-align: right;\n",
       "    }\n",
       "\n",
       "    .dataframe thead th {\n",
       "        text-align: left;\n",
       "    }\n",
       "\n",
       "    .dataframe tbody tr th {\n",
       "        vertical-align: top;\n",
       "    }\n",
       "</style>\n",
       "<table border=\"1\" class=\"dataframe\">\n",
       "  <thead>\n",
       "    <tr style=\"text-align: right;\">\n",
       "      <th></th>\n",
       "      <th>HTP</th>\n",
       "      <th>ATP</th>\n",
       "      <th>HM1_D</th>\n",
       "      <th>HM1_L</th>\n",
       "      <th>HM1_W</th>\n",
       "      <th>HM2_D</th>\n",
       "      <th>HM2_L</th>\n",
       "      <th>HM2_W</th>\n",
       "      <th>HM3_D</th>\n",
       "      <th>HM3_L</th>\n",
       "      <th>...</th>\n",
       "      <th>AM2_D</th>\n",
       "      <th>AM2_L</th>\n",
       "      <th>AM2_W</th>\n",
       "      <th>AM3_D</th>\n",
       "      <th>AM3_L</th>\n",
       "      <th>AM3_W</th>\n",
       "      <th>HTGD</th>\n",
       "      <th>ATGD</th>\n",
       "      <th>DiffFormPts</th>\n",
       "      <th>DiffLP</th>\n",
       "    </tr>\n",
       "  </thead>\n",
       "  <tbody>\n",
       "    <tr>\n",
       "      <th>30</th>\n",
       "      <td>-0.554517</td>\n",
       "      <td>0.999379</td>\n",
       "      <td>0</td>\n",
       "      <td>1</td>\n",
       "      <td>0</td>\n",
       "      <td>1</td>\n",
       "      <td>0</td>\n",
       "      <td>0</td>\n",
       "      <td>0</td>\n",
       "      <td>0</td>\n",
       "      <td>...</td>\n",
       "      <td>1</td>\n",
       "      <td>0</td>\n",
       "      <td>0</td>\n",
       "      <td>0</td>\n",
       "      <td>0</td>\n",
       "      <td>1</td>\n",
       "      <td>-0.384897</td>\n",
       "      <td>1.178491</td>\n",
       "      <td>-0.75</td>\n",
       "      <td>0.527008</td>\n",
       "    </tr>\n",
       "    <tr>\n",
       "      <th>31</th>\n",
       "      <td>-0.554517</td>\n",
       "      <td>2.056671</td>\n",
       "      <td>1</td>\n",
       "      <td>0</td>\n",
       "      <td>0</td>\n",
       "      <td>0</td>\n",
       "      <td>0</td>\n",
       "      <td>1</td>\n",
       "      <td>0</td>\n",
       "      <td>1</td>\n",
       "      <td>...</td>\n",
       "      <td>0</td>\n",
       "      <td>0</td>\n",
       "      <td>1</td>\n",
       "      <td>0</td>\n",
       "      <td>0</td>\n",
       "      <td>1</td>\n",
       "      <td>-0.384897</td>\n",
       "      <td>1.576807</td>\n",
       "      <td>-1.25</td>\n",
       "      <td>0.316194</td>\n",
       "    </tr>\n",
       "    <tr>\n",
       "      <th>32</th>\n",
       "      <td>-2.135240</td>\n",
       "      <td>-1.643853</td>\n",
       "      <td>0</td>\n",
       "      <td>1</td>\n",
       "      <td>0</td>\n",
       "      <td>1</td>\n",
       "      <td>0</td>\n",
       "      <td>0</td>\n",
       "      <td>0</td>\n",
       "      <td>1</td>\n",
       "      <td>...</td>\n",
       "      <td>1</td>\n",
       "      <td>0</td>\n",
       "      <td>0</td>\n",
       "      <td>0</td>\n",
       "      <td>1</td>\n",
       "      <td>0</td>\n",
       "      <td>-1.180857</td>\n",
       "      <td>-0.414775</td>\n",
       "      <td>-0.25</td>\n",
       "      <td>-0.210841</td>\n",
       "    </tr>\n",
       "    <tr>\n",
       "      <th>33</th>\n",
       "      <td>-0.027610</td>\n",
       "      <td>2.056671</td>\n",
       "      <td>1</td>\n",
       "      <td>0</td>\n",
       "      <td>0</td>\n",
       "      <td>1</td>\n",
       "      <td>0</td>\n",
       "      <td>0</td>\n",
       "      <td>0</td>\n",
       "      <td>0</td>\n",
       "      <td>...</td>\n",
       "      <td>0</td>\n",
       "      <td>0</td>\n",
       "      <td>1</td>\n",
       "      <td>0</td>\n",
       "      <td>0</td>\n",
       "      <td>1</td>\n",
       "      <td>0.411064</td>\n",
       "      <td>1.576807</td>\n",
       "      <td>-1.00</td>\n",
       "      <td>0.316194</td>\n",
       "    </tr>\n",
       "    <tr>\n",
       "      <th>34</th>\n",
       "      <td>1.026205</td>\n",
       "      <td>-2.172499</td>\n",
       "      <td>0</td>\n",
       "      <td>0</td>\n",
       "      <td>1</td>\n",
       "      <td>1</td>\n",
       "      <td>0</td>\n",
       "      <td>0</td>\n",
       "      <td>0</td>\n",
       "      <td>0</td>\n",
       "      <td>...</td>\n",
       "      <td>1</td>\n",
       "      <td>0</td>\n",
       "      <td>0</td>\n",
       "      <td>0</td>\n",
       "      <td>1</td>\n",
       "      <td>0</td>\n",
       "      <td>0.809044</td>\n",
       "      <td>-0.813092</td>\n",
       "      <td>1.50</td>\n",
       "      <td>-0.316248</td>\n",
       "    </tr>\n",
       "  </tbody>\n",
       "</table>\n",
       "<p>5 rows × 24 columns</p>\n",
       "</div>"
      ],
      "text/plain": [
       "         HTP       ATP  HM1_D  HM1_L  HM1_W  HM2_D  HM2_L  HM2_W  HM3_D  \\\n",
       "30 -0.554517  0.999379      0      1      0      1      0      0      0   \n",
       "31 -0.554517  2.056671      1      0      0      0      0      1      0   \n",
       "32 -2.135240 -1.643853      0      1      0      1      0      0      0   \n",
       "33 -0.027610  2.056671      1      0      0      1      0      0      0   \n",
       "34  1.026205 -2.172499      0      0      1      1      0      0      0   \n",
       "\n",
       "    HM3_L    ...     AM2_D  AM2_L  AM2_W  AM3_D  AM3_L  AM3_W      HTGD  \\\n",
       "30      0    ...         1      0      0      0      0      1 -0.384897   \n",
       "31      1    ...         0      0      1      0      0      1 -0.384897   \n",
       "32      1    ...         1      0      0      0      1      0 -1.180857   \n",
       "33      0    ...         0      0      1      0      0      1  0.411064   \n",
       "34      0    ...         1      0      0      0      1      0  0.809044   \n",
       "\n",
       "        ATGD  DiffFormPts    DiffLP  \n",
       "30  1.178491        -0.75  0.527008  \n",
       "31  1.576807        -1.25  0.316194  \n",
       "32 -0.414775        -0.25 -0.210841  \n",
       "33  1.576807        -1.00  0.316194  \n",
       "34 -0.813092         1.50 -0.316248  \n",
       "\n",
       "[5 rows x 24 columns]"
      ]
     },
     "metadata": {},
     "output_type": "display_data"
    },
    {
     "name": "stdout",
     "output_type": "stream",
     "text": [
      "\n",
      "Labels values:\n"
     ]
    },
    {
     "data": {
      "text/html": [
       "<div>\n",
       "<style>\n",
       "    .dataframe thead tr:only-child th {\n",
       "        text-align: right;\n",
       "    }\n",
       "\n",
       "    .dataframe thead th {\n",
       "        text-align: left;\n",
       "    }\n",
       "\n",
       "    .dataframe tbody tr th {\n",
       "        vertical-align: top;\n",
       "    }\n",
       "</style>\n",
       "<table border=\"1\" class=\"dataframe\">\n",
       "  <thead>\n",
       "    <tr style=\"text-align: right;\">\n",
       "      <th></th>\n",
       "      <th>A</th>\n",
       "      <th>D</th>\n",
       "      <th>H</th>\n",
       "    </tr>\n",
       "  </thead>\n",
       "  <tbody>\n",
       "    <tr>\n",
       "      <th>30</th>\n",
       "      <td>0</td>\n",
       "      <td>1</td>\n",
       "      <td>0</td>\n",
       "    </tr>\n",
       "    <tr>\n",
       "      <th>31</th>\n",
       "      <td>0</td>\n",
       "      <td>1</td>\n",
       "      <td>0</td>\n",
       "    </tr>\n",
       "    <tr>\n",
       "      <th>32</th>\n",
       "      <td>0</td>\n",
       "      <td>1</td>\n",
       "      <td>0</td>\n",
       "    </tr>\n",
       "    <tr>\n",
       "      <th>33</th>\n",
       "      <td>0</td>\n",
       "      <td>0</td>\n",
       "      <td>1</td>\n",
       "    </tr>\n",
       "    <tr>\n",
       "      <th>34</th>\n",
       "      <td>0</td>\n",
       "      <td>0</td>\n",
       "      <td>1</td>\n",
       "    </tr>\n",
       "  </tbody>\n",
       "</table>\n",
       "</div>"
      ],
      "text/plain": [
       "    A  D  H\n",
       "30  0  1  0\n",
       "31  0  1  0\n",
       "32  0  1  0\n",
       "33  0  0  1\n",
       "34  0  0  1"
      ]
     },
     "metadata": {},
     "output_type": "display_data"
    }
   ],
   "source": [
    "# Show the feature information by printing the first five rows\n",
    "print( \"\\nFeature values:\" )\n",
    "display(X_all_raw.head())\n",
    "\n",
    "print( \"\\nLabels values:\" )\n",
    "display(y_all_raw.head())"
   ]
  },
  {
   "cell_type": "markdown",
   "metadata": {},
   "source": [
    "# Separate training from test (i.e. to be predicted) data"
   ]
  },
  {
   "cell_type": "code",
   "execution_count": 7,
   "metadata": {
    "collapsed": false
   },
   "outputs": [
    {
     "name": "stdout",
     "output_type": "stream",
     "text": [
      "Matches to predict: last 10\n"
     ]
    }
   ],
   "source": [
    "X_test = X_all_raw.iloc[-N_MATCHES_TO_PREDICT:, :]\n",
    "y_test = y_all_raw[-N_MATCHES_TO_PREDICT:]\n",
    "ntest, _  = X_test.shape\n",
    "\n",
    "print(\"Matches to predict: last %d\"%( ntest))\n",
    "\n",
    "test_dataset  = X_test.values.tolist()\n",
    "test_labels   = y_test.values.tolist()"
   ]
  },
  {
   "cell_type": "markdown",
   "metadata": {},
   "source": [
    "## Aux functions"
   ]
  },
  {
   "cell_type": "code",
   "execution_count": 8,
   "metadata": {
    "collapsed": false
   },
   "outputs": [],
   "source": [
    "def decode_probabilities(y):\n",
    "    labels = []\n",
    "    for pred in y:\n",
    "        max_val = max(pred)\n",
    "        if pred[0] == max_val:\n",
    "            labels.append('A')\n",
    "        elif pred[1] == max_val:\n",
    "            labels.append('D')\n",
    "        elif pred[2] == max_val:\n",
    "            labels.append('H')\n",
    "    return labels"
   ]
  },
  {
   "cell_type": "markdown",
   "metadata": {
    "collapsed": false
   },
   "source": [
    "# Load the Deep Neural Network"
   ]
  },
  {
   "cell_type": "code",
   "execution_count": 9,
   "metadata": {
    "collapsed": false
   },
   "outputs": [
    {
     "name": "stdout",
     "output_type": "stream",
     "text": [
      "INFO:tensorflow:Restoring parameters from football_classifier_serieA_DNN_b\n"
     ]
    }
   ],
   "source": [
    "y_pred = []\n",
    "\n",
    "with tf.Session() as session:\n",
    "    saver = tf.train.import_meta_graph(classifierFilename+'.meta')\n",
    "    saver.restore(session, classifierFilename)\n",
    "\n",
    "    tf.get_default_graph().as_graph_def()\n",
    "    \n",
    "    tf_test_dataset = session.graph.get_tensor_by_name(\"predict_dataset:0\")\n",
    "    test_prediction = session.graph.get_tensor_by_name(\"predict:0\")\n",
    "\n",
    "    for y in test_dataset:\n",
    "        feed_dict = {tf_test_dataset : [y]}\n",
    "        y_pred.append( list( session.run( [test_prediction], feed_dict=feed_dict)[0][0] ) )"
   ]
  },
  {
   "cell_type": "code",
   "execution_count": 10,
   "metadata": {
    "collapsed": false
   },
   "outputs": [
    {
     "name": "stdout",
     "output_type": "stream",
     "text": [
      "[[0.011376034, 0.54730374, 0.44132015], [0.80121994, 0.049815413, 0.14896464], [0.0039909012, 0.046243183, 0.94976592], [0.79608691, 0.012723695, 0.19118942], [0.23348156, 0.76485217, 0.0016662397], [0.53082842, 0.11170167, 0.35746998], [6.2796704e-07, 0.92763019, 0.072369106], [1.7453565e-05, 0.001137447, 0.9988451], [0.12612683, 0.0091325399, 0.86474061], [0.1259529, 0.72790992, 0.14613721]]\n"
     ]
    }
   ],
   "source": [
    "print(y_pred)"
   ]
  },
  {
   "cell_type": "code",
   "execution_count": 11,
   "metadata": {
    "collapsed": false
   },
   "outputs": [],
   "source": [
    "teams_pred  = teams.iloc[-N_MATCHES_TO_PREDICT:, :]\n",
    "teams_pred.index=teams_pred.index.tolist()\n",
    "\n",
    "Pred_prob_A = []\n",
    "Pred_prob_D = []\n",
    "Pred_prob_H = []\n",
    "for y in y_pred:\n",
    "    Pred_prob_A.append(np.round(y[0], 3))\n",
    "    Pred_prob_D.append(np.round(y[1], 3))\n",
    "    Pred_prob_H.append(np.round(y[2], 3))\n",
    "\n",
    "teams_pred['Predictions'] = decode_probabilities(y_pred)\n",
    "teams_pred['Pred_prob_A'] = Pred_prob_A\n",
    "teams_pred['Pred_prob_D'] = Pred_prob_D\n",
    "teams_pred['Pred_prob_H'] = Pred_prob_H\n",
    "\n",
    "teams_pred['Exact_res'] = decode_probabilities(test_labels)"
   ]
  },
  {
   "cell_type": "code",
   "execution_count": 12,
   "metadata": {
    "collapsed": false
   },
   "outputs": [
    {
     "data": {
      "text/html": [
       "<div>\n",
       "<style>\n",
       "    .dataframe thead tr:only-child th {\n",
       "        text-align: right;\n",
       "    }\n",
       "\n",
       "    .dataframe thead th {\n",
       "        text-align: left;\n",
       "    }\n",
       "\n",
       "    .dataframe tbody tr th {\n",
       "        vertical-align: top;\n",
       "    }\n",
       "</style>\n",
       "<table border=\"1\" class=\"dataframe\">\n",
       "  <thead>\n",
       "    <tr style=\"text-align: right;\">\n",
       "      <th></th>\n",
       "      <th>Date</th>\n",
       "      <th>HomeTeam</th>\n",
       "      <th>AwayTeam</th>\n",
       "      <th>Predictions</th>\n",
       "      <th>Pred_prob_H</th>\n",
       "      <th>Pred_prob_D</th>\n",
       "      <th>Pred_prob_A</th>\n",
       "    </tr>\n",
       "  </thead>\n",
       "  <tbody>\n",
       "    <tr>\n",
       "      <th>4289</th>\n",
       "      <td>2017-11-04</td>\n",
       "      <td>Bologna</td>\n",
       "      <td>Crotone</td>\n",
       "      <td>D</td>\n",
       "      <td>0.441</td>\n",
       "      <td>0.547</td>\n",
       "      <td>0.011</td>\n",
       "    </tr>\n",
       "    <tr>\n",
       "      <th>4290</th>\n",
       "      <td>2017-11-04</td>\n",
       "      <td>Genoa</td>\n",
       "      <td>Sampdoria</td>\n",
       "      <td>A</td>\n",
       "      <td>0.149</td>\n",
       "      <td>0.050</td>\n",
       "      <td>0.801</td>\n",
       "    </tr>\n",
       "    <tr>\n",
       "      <th>4291</th>\n",
       "      <td>2017-11-05</td>\n",
       "      <td>Inter</td>\n",
       "      <td>Torino</td>\n",
       "      <td>H</td>\n",
       "      <td>0.950</td>\n",
       "      <td>0.046</td>\n",
       "      <td>0.004</td>\n",
       "    </tr>\n",
       "    <tr>\n",
       "      <th>4292</th>\n",
       "      <td>2017-11-05</td>\n",
       "      <td>Cagliari</td>\n",
       "      <td>Verona</td>\n",
       "      <td>A</td>\n",
       "      <td>0.191</td>\n",
       "      <td>0.013</td>\n",
       "      <td>0.796</td>\n",
       "    </tr>\n",
       "    <tr>\n",
       "      <th>4293</th>\n",
       "      <td>2017-11-05</td>\n",
       "      <td>Chievo</td>\n",
       "      <td>Napoli</td>\n",
       "      <td>D</td>\n",
       "      <td>0.002</td>\n",
       "      <td>0.765</td>\n",
       "      <td>0.233</td>\n",
       "    </tr>\n",
       "    <tr>\n",
       "      <th>4294</th>\n",
       "      <td>2017-11-05</td>\n",
       "      <td>Fiorentina</td>\n",
       "      <td>Roma</td>\n",
       "      <td>A</td>\n",
       "      <td>0.357</td>\n",
       "      <td>0.112</td>\n",
       "      <td>0.531</td>\n",
       "    </tr>\n",
       "    <tr>\n",
       "      <th>4295</th>\n",
       "      <td>2017-11-05</td>\n",
       "      <td>Juventus</td>\n",
       "      <td>Benevento</td>\n",
       "      <td>D</td>\n",
       "      <td>0.072</td>\n",
       "      <td>0.928</td>\n",
       "      <td>0.000</td>\n",
       "    </tr>\n",
       "    <tr>\n",
       "      <th>4296</th>\n",
       "      <td>2017-11-05</td>\n",
       "      <td>Lazio</td>\n",
       "      <td>Udinese</td>\n",
       "      <td>H</td>\n",
       "      <td>0.999</td>\n",
       "      <td>0.001</td>\n",
       "      <td>0.000</td>\n",
       "    </tr>\n",
       "    <tr>\n",
       "      <th>4297</th>\n",
       "      <td>2017-11-05</td>\n",
       "      <td>Atalanta</td>\n",
       "      <td>Spal</td>\n",
       "      <td>H</td>\n",
       "      <td>0.865</td>\n",
       "      <td>0.009</td>\n",
       "      <td>0.126</td>\n",
       "    </tr>\n",
       "    <tr>\n",
       "      <th>4298</th>\n",
       "      <td>2017-11-05</td>\n",
       "      <td>Sassuolo</td>\n",
       "      <td>Milan</td>\n",
       "      <td>D</td>\n",
       "      <td>0.146</td>\n",
       "      <td>0.728</td>\n",
       "      <td>0.126</td>\n",
       "    </tr>\n",
       "  </tbody>\n",
       "</table>\n",
       "</div>"
      ],
      "text/plain": [
       "            Date    HomeTeam   AwayTeam Predictions  Pred_prob_H  Pred_prob_D  \\\n",
       "4289  2017-11-04     Bologna    Crotone           D        0.441        0.547   \n",
       "4290  2017-11-04       Genoa  Sampdoria           A        0.149        0.050   \n",
       "4291  2017-11-05       Inter     Torino           H        0.950        0.046   \n",
       "4292  2017-11-05    Cagliari     Verona           A        0.191        0.013   \n",
       "4293  2017-11-05      Chievo     Napoli           D        0.002        0.765   \n",
       "4294  2017-11-05  Fiorentina       Roma           A        0.357        0.112   \n",
       "4295  2017-11-05    Juventus  Benevento           D        0.072        0.928   \n",
       "4296  2017-11-05       Lazio    Udinese           H        0.999        0.001   \n",
       "4297  2017-11-05    Atalanta       Spal           H        0.865        0.009   \n",
       "4298  2017-11-05    Sassuolo      Milan           D        0.146        0.728   \n",
       "\n",
       "      Pred_prob_A  \n",
       "4289        0.011  \n",
       "4290        0.801  \n",
       "4291        0.004  \n",
       "4292        0.796  \n",
       "4293        0.233  \n",
       "4294        0.531  \n",
       "4295        0.000  \n",
       "4296        0.000  \n",
       "4297        0.126  \n",
       "4298        0.126  "
      ]
     },
     "metadata": {},
     "output_type": "display_data"
    }
   ],
   "source": [
    "display(teams_pred[['Date', 'HomeTeam','AwayTeam', 'Predictions', 'Pred_prob_H', 'Pred_prob_D', 'Pred_prob_A']])"
   ]
  },
  {
   "cell_type": "code",
   "execution_count": null,
   "metadata": {
    "collapsed": true
   },
   "outputs": [],
   "source": []
  },
  {
   "cell_type": "code",
   "execution_count": null,
   "metadata": {
    "collapsed": true
   },
   "outputs": [],
   "source": []
  },
  {
   "cell_type": "code",
   "execution_count": null,
   "metadata": {
    "collapsed": true
   },
   "outputs": [],
   "source": []
  },
  {
   "cell_type": "code",
   "execution_count": null,
   "metadata": {
    "collapsed": true
   },
   "outputs": [],
   "source": []
  }
 ],
 "metadata": {
  "anaconda-cloud": {},
  "kernelspec": {
   "display_name": "Python 3",
   "language": "python",
   "name": "python3"
  },
  "language_info": {
   "codemirror_mode": {
    "name": "ipython",
    "version": 3
   },
   "file_extension": ".py",
   "mimetype": "text/x-python",
   "name": "python",
   "nbconvert_exporter": "python",
   "pygments_lexer": "ipython3",
   "version": "3.6.2"
  }
 },
 "nbformat": 4,
 "nbformat_minor": 1
}
