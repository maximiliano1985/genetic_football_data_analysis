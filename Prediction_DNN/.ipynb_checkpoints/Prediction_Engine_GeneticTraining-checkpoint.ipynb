{
 "cells": [
  {
   "cell_type": "markdown",
   "metadata": {},
   "source": [
    "The Goal here (pun intended) is to design a prediction system which can accurately predict if the home team will win or not. We will use the final dataset got by our earlier \"Scraping and Cleaning\" Notebook build our prediction model on."
   ]
  },
  {
   "cell_type": "code",
   "execution_count": 1,
   "metadata": {
    "collapsed": false
   },
   "outputs": [],
   "source": [
    "# Import the necessary libraries.\n",
    "import pandas as pd\n",
    "import numpy as np\n",
    "import xgboost as xgb\n",
    "from time import time\n",
    "from sklearn.linear_model import LogisticRegression\n",
    "from sklearn.ensemble import RandomForestClassifier\n",
    "from sklearn.svm import SVC\n",
    "from IPython.display import display\n",
    "\n",
    "import warnings\n",
    "warnings.filterwarnings(\"ignore\")\n",
    "pd.options.mode.chained_assignment = None  # default='warn'\n",
    "\n",
    "\n",
    "\n",
    "%matplotlib inline"
   ]
  },
  {
   "cell_type": "code",
   "execution_count": 2,
   "metadata": {
    "collapsed": false
   },
   "outputs": [
    {
     "name": "stdout",
     "output_type": "stream",
     "text": [
      "Index(['Unnamed: 0', 'Date', 'HomeTeam', 'AwayTeam', 'FTHG', 'FTAG', 'FTR',\n",
      "       'HTGS', 'ATGS', 'HTGC', 'ATGC', 'HTP', 'ATP', 'HM1', 'HM2', 'HM3',\n",
      "       'HM4', 'AM1', 'AM2', 'AM3', 'AM4', 'B365H', 'BWH', 'IWH', 'LBH', 'WHH',\n",
      "       'B365D', 'BWD', 'IWD', 'LBD', 'WHD', 'B365A', 'BWA', 'IWA', 'LBA',\n",
      "       'WHA', 'HomeTeamLP', 'AwayTeamLP', 'MW', 'ENTROPY_B365', 'ENTROPY_BW',\n",
      "       'ENTROPY_IW', 'ENTROPY_LB', 'ENTROPY_WH', 'ENTROPY_H', 'ENTROPY_D',\n",
      "       'ENTROPY_A', 'HTFormPtsStr', 'ATFormPtsStr', 'HTFormPts', 'ATFormPts',\n",
      "       'HTWinStreak3', 'HTWinStreak5', 'HTLossStreak3', 'HTLossStreak5',\n",
      "       'ATWinStreak3', 'ATWinStreak5', 'ATLossStreak3', 'ATLossStreak5',\n",
      "       'HTGD', 'ATGD', 'DiffPts', 'DiffFormPts', 'DiffLP'],\n",
      "      dtype='object')\n"
     ]
    }
   ],
   "source": [
    "# Read data and drop redundant column.\n",
    "#data = pd.read_csv('../Datasets/final_dataset_complete.csv')\n",
    "data = pd.read_csv('../Datasets/serie_A/final_dataset_serieA.csv')\n",
    "\n",
    "N_MATCHES_TO_PREDICT = 20\n",
    "\n",
    "OPTIMIZE_HYPERPARAMETERS = False\n",
    "\n",
    "out_classifierFilename = 'football_classifier_serieA_bis.pkl'\n",
    "\n",
    "\n",
    "# Remove first 3 matchweeks\n",
    "data = data[data.MW > 3]\n",
    "print(data.keys())"
   ]
  },
  {
   "cell_type": "code",
   "execution_count": 3,
   "metadata": {
    "collapsed": false
   },
   "outputs": [],
   "source": [
    "# Visualising distribution of data\n",
    "from pandas.tools.plotting import scatter_matrix\n",
    "data_training = data.iloc[:-N_MATCHES_TO_PREDICT, :]\n",
    "\n",
    "\n",
    "## bis\n",
    "#scatter_matrix(data[['HTGD','ATGD','HTP','ATP','DiffFormPts','DiffLP']], figsize=(10,10));\n",
    "\n",
    "## tris\n",
    "#scatter_matrix(data_training[['HTGD','ATGD','HTP','ATP','DiffFormPts','DiffLP','HTFormPts', 'ATFormPts','HTGS', 'ATGS', 'HTGC', 'ATGC', 'ENTROPY_B365', 'ENTROPY_H', 'ENTROPY_A', 'HomeTeamLP', 'AwayTeamLP']], figsize=(10,10));\n",
    "#scatter_matrix(dd[['ENTROPY_B365', 'ENTROPY_BW', 'ENTROPY_IW', 'ENTROPY_LB', 'ENTROPY_WH', 'ENTROPY_H', 'ENTROPY_D', 'ENTROPY_A']], figsize=(10,10));\n",
    "\n",
    "\n"
   ]
  },
  {
   "cell_type": "code",
   "execution_count": 3,
   "metadata": {
    "collapsed": false
   },
   "outputs": [
    {
     "name": "stdout",
     "output_type": "stream",
     "text": [
      "Index(['FTR', 'HTP', 'ATP', 'HM1', 'HM2', 'HM3', 'AM1', 'AM2', 'AM3', 'HTGD',\n",
      "       'ATGD', 'DiffFormPts', 'DiffLP'],\n",
      "      dtype='object')\n"
     ]
    }
   ],
   "source": [
    "#data.drop(['Unnamed: 0','HomeTeam', 'AwayTeam','Date', 'MW', 'HTFormPtsStr', 'ATFormPtsStr', 'FTHG', 'FTAG',\n",
    "#           'HTGS', 'ATGS', 'HTGC', 'ATGC','HomeTeamLP', 'AwayTeamLP','DiffPts','HTFormPts','ATFormPts',\n",
    "#           'HM4','HM5','AM4','AM5','HTLossStreak5','ATLossStreak5','HTWinStreak5','ATWinStreak5',\n",
    "#           'HTWinStreak3','HTLossStreak3','ATWinStreak3','ATLossStreak3'],1, inplace=True)\n",
    "## bis\n",
    "data.drop(['Unnamed: 0','HomeTeam', 'AwayTeam','Date', 'MW', 'HTFormPtsStr', 'ATFormPtsStr', 'FTHG', 'FTAG',\n",
    "           'HTGS', 'ATGS', 'HTGC', 'ATGC','HomeTeamLP', 'AwayTeamLP','DiffPts','HTFormPts','ATFormPts',\n",
    "           'HM4','AM4','HTLossStreak5','ATLossStreak5','HTWinStreak5','ATWinStreak5',\n",
    "           'HTWinStreak3','HTLossStreak3','ATWinStreak3','ATLossStreak3', 'ENTROPY_B365', 'ENTROPY_BW',\n",
    "           'ENTROPY_IW', 'ENTROPY_LB', 'ENTROPY_WH', 'ENTROPY_H', 'ENTROPY_D', 'ENTROPY_A',\n",
    "           'B365H', 'BWH', 'IWH', 'LBH', 'WHH', 'B365D', 'BWD', 'IWD', 'LBD', 'WHD', 'B365A', 'BWA', 'IWA',\n",
    "            'LBA', 'WHA'],1, inplace=True)\n",
    "## tris\n",
    "#data.drop(['Unnamed: 0', 'Date', 'HomeTeam', 'AwayTeam', 'FTHG', 'FTAG',\n",
    "#        'B365H', 'BWH', 'IWH', 'LBH', 'WHH', 'B365D', 'BWD', 'IWD', 'LBD', 'WHD', 'B365A', 'BWA', 'IWA', 'LBA',\n",
    "#        'WHA', 'MW','ENTROPY_BW', 'ENTROPY_IW', 'ENTROPY_LB', 'ENTROPY_WH', 'ENTROPY_D', 'HTFormPtsStr', 'ATFormPtsStr', 'HTWinStreak5',\n",
    "#        'HTLossStreak5', 'ATWinStreak5', 'ATLossStreak5'],1, inplace=True)\n",
    "\n",
    "# ,'HomeTeam', 'AwayTeam'\n",
    "# Preview data.\n",
    "print(data.keys())"
   ]
  },
  {
   "cell_type": "markdown",
   "metadata": {},
   "source": [
    "## Data Exploration"
   ]
  },
  {
   "cell_type": "code",
   "execution_count": 4,
   "metadata": {
    "collapsed": false
   },
   "outputs": [
    {
     "name": "stdout",
     "output_type": "stream",
     "text": [
      "Total number of matches: 3889\n",
      "Number of features: 12\n",
      "Number of matches won by home team: 1812\n",
      "Win rate of home team: 46.59%\n"
     ]
    }
   ],
   "source": [
    "# Total number of students.\n",
    "n_matches = data.shape[0]\n",
    "\n",
    "# Calculate number of features.\n",
    "n_features = data.shape[1] - 1\n",
    "\n",
    "# Calculate matches won by home team.\n",
    "n_homewins = len(data[data.FTR == 'H'])\n",
    "\n",
    "# Calculate win rate for home team.\n",
    "win_rate = (float(n_homewins) / (n_matches)) * 100\n",
    "\n",
    "# Print the results\n",
    "print(\"Total number of matches: {}\".format(n_matches))\n",
    "print(\"Number of features: {}\".format(n_features))\n",
    "print(\"Number of matches won by home team: {}\".format(n_homewins))\n",
    "print(\"Win rate of home team: {:.2f}%\".format(win_rate))"
   ]
  },
  {
   "cell_type": "markdown",
   "metadata": {},
   "source": [
    "## Preparing the Data"
   ]
  },
  {
   "cell_type": "code",
   "execution_count": 7,
   "metadata": {
    "collapsed": false
   },
   "outputs": [],
   "source": [
    "# Separate into feature set and target variable\n",
    "X_all = data.drop(['FTR'],1)\n",
    "y_all = data['FTR']\n",
    "\n",
    "# Standardising the data.\n",
    "from sklearn.preprocessing import scale\n",
    "\n",
    "## bis\n",
    "cols = [['HTGD','ATGD','HTP','ATP','DiffFormPts', 'DiffLP']]\n",
    "\n",
    "## tris\n",
    "#cols = ['HTGS', 'ATGS', 'HTGC', 'ATGC', 'HTP', 'ATP', 'HomeTeamLP', 'AwayTeamLP',\n",
    "#       'ENTROPY_B365', 'ENTROPY_H', 'ENTROPY_A',\n",
    "#       'HTFormPts', 'ATFormPts', 'HTWinStreak3', 'HTLossStreak3',\n",
    "#       'ATWinStreak3', 'ATLossStreak3', 'HTGD', 'ATGD', 'DiffPts',\n",
    "#       'DiffFormPts', 'DiffLP']\n",
    "for col in cols:\n",
    "    X_all[col] = scale(X_all[col])\n",
    "\n"
   ]
  },
  {
   "cell_type": "code",
   "execution_count": 8,
   "metadata": {
    "collapsed": false
   },
   "outputs": [
    {
     "name": "stdout",
     "output_type": "stream",
     "text": [
      "Processed feature columns (24 total features):\n",
      "['HTP', 'ATP', 'HM1_D', 'HM1_L', 'HM1_W', 'HM2_D', 'HM2_L', 'HM2_W', 'HM3_D', 'HM3_L', 'HM3_W', 'AM1_D', 'AM1_L', 'AM1_W', 'AM2_D', 'AM2_L', 'AM2_W', 'AM3_D', 'AM3_L', 'AM3_W', 'HTGD', 'ATGD', 'DiffFormPts', 'DiffLP']\n"
     ]
    }
   ],
   "source": [
    "X_all.HM1 = X_all.HM1.astype('str')\n",
    "X_all.HM2 = X_all.HM2.astype('str')\n",
    "X_all.HM3 = X_all.HM3.astype('str')\n",
    "X_all.AM1 = X_all.AM1.astype('str')\n",
    "X_all.AM2 = X_all.AM2.astype('str')\n",
    "X_all.AM3 = X_all.AM3.astype('str')\n",
    "\n",
    "def preprocess_features(X):\n",
    "    ''' Preprocesses the football data and converts catagorical variables into dummy variables. '''\n",
    "    \n",
    "    # Initialize new output DataFrame\n",
    "    output = pd.DataFrame(index = X.index)\n",
    "\n",
    "    # Investigate each feature column for the data\n",
    "    for col, col_data in X.iteritems():\n",
    "\n",
    "        # If data type is categorical, convert to dummy variables\n",
    "        if col_data.dtype == object:\n",
    "            col_data = pd.get_dummies(col_data, prefix = col)\n",
    "                    \n",
    "        # Collect the revised columns\n",
    "        output = output.join(col_data)\n",
    "    \n",
    "    return output\n",
    "\n",
    "X_all = preprocess_features(X_all)\n",
    "print( \"Processed feature columns ({} total features):\\n{}\".format(len(X_all.columns), list(X_all.columns)) )"
   ]
  },
  {
   "cell_type": "code",
   "execution_count": 9,
   "metadata": {
    "collapsed": false
   },
   "outputs": [
    {
     "name": "stdout",
     "output_type": "stream",
     "text": [
      "\n",
      "Feature values:\n"
     ]
    },
    {
     "data": {
      "text/html": [
       "<div>\n",
       "<style>\n",
       "    .dataframe thead tr:only-child th {\n",
       "        text-align: right;\n",
       "    }\n",
       "\n",
       "    .dataframe thead th {\n",
       "        text-align: left;\n",
       "    }\n",
       "\n",
       "    .dataframe tbody tr th {\n",
       "        vertical-align: top;\n",
       "    }\n",
       "</style>\n",
       "<table border=\"1\" class=\"dataframe\">\n",
       "  <thead>\n",
       "    <tr style=\"text-align: right;\">\n",
       "      <th></th>\n",
       "      <th>HTP</th>\n",
       "      <th>ATP</th>\n",
       "      <th>HM1_D</th>\n",
       "      <th>HM1_L</th>\n",
       "      <th>HM1_W</th>\n",
       "      <th>HM2_D</th>\n",
       "      <th>HM2_L</th>\n",
       "      <th>HM2_W</th>\n",
       "      <th>HM3_D</th>\n",
       "      <th>HM3_L</th>\n",
       "      <th>...</th>\n",
       "      <th>AM2_D</th>\n",
       "      <th>AM2_L</th>\n",
       "      <th>AM2_W</th>\n",
       "      <th>AM3_D</th>\n",
       "      <th>AM3_L</th>\n",
       "      <th>AM3_W</th>\n",
       "      <th>HTGD</th>\n",
       "      <th>ATGD</th>\n",
       "      <th>DiffFormPts</th>\n",
       "      <th>DiffLP</th>\n",
       "    </tr>\n",
       "  </thead>\n",
       "  <tbody>\n",
       "    <tr>\n",
       "      <th>30</th>\n",
       "      <td>-0.558071</td>\n",
       "      <td>1.007151</td>\n",
       "      <td>0</td>\n",
       "      <td>1</td>\n",
       "      <td>0</td>\n",
       "      <td>1</td>\n",
       "      <td>0</td>\n",
       "      <td>0</td>\n",
       "      <td>0</td>\n",
       "      <td>0</td>\n",
       "      <td>...</td>\n",
       "      <td>1</td>\n",
       "      <td>0</td>\n",
       "      <td>0</td>\n",
       "      <td>0</td>\n",
       "      <td>0</td>\n",
       "      <td>1</td>\n",
       "      <td>-0.388674</td>\n",
       "      <td>1.193709</td>\n",
       "      <td>-2.193275</td>\n",
       "      <td>0.525810</td>\n",
       "    </tr>\n",
       "    <tr>\n",
       "      <th>31</th>\n",
       "      <td>-0.558071</td>\n",
       "      <td>2.074186</td>\n",
       "      <td>1</td>\n",
       "      <td>0</td>\n",
       "      <td>0</td>\n",
       "      <td>0</td>\n",
       "      <td>0</td>\n",
       "      <td>1</td>\n",
       "      <td>0</td>\n",
       "      <td>1</td>\n",
       "      <td>...</td>\n",
       "      <td>0</td>\n",
       "      <td>0</td>\n",
       "      <td>1</td>\n",
       "      <td>0</td>\n",
       "      <td>0</td>\n",
       "      <td>1</td>\n",
       "      <td>-0.388674</td>\n",
       "      <td>1.597666</td>\n",
       "      <td>-3.687346</td>\n",
       "      <td>0.314922</td>\n",
       "    </tr>\n",
       "    <tr>\n",
       "      <th>32</th>\n",
       "      <td>-2.152808</td>\n",
       "      <td>-1.660437</td>\n",
       "      <td>0</td>\n",
       "      <td>1</td>\n",
       "      <td>0</td>\n",
       "      <td>1</td>\n",
       "      <td>0</td>\n",
       "      <td>0</td>\n",
       "      <td>0</td>\n",
       "      <td>1</td>\n",
       "      <td>...</td>\n",
       "      <td>1</td>\n",
       "      <td>0</td>\n",
       "      <td>0</td>\n",
       "      <td>0</td>\n",
       "      <td>1</td>\n",
       "      <td>0</td>\n",
       "      <td>-1.195503</td>\n",
       "      <td>-0.422117</td>\n",
       "      <td>-0.699203</td>\n",
       "      <td>-0.212298</td>\n",
       "    </tr>\n",
       "    <tr>\n",
       "      <th>33</th>\n",
       "      <td>-0.026492</td>\n",
       "      <td>2.074186</td>\n",
       "      <td>1</td>\n",
       "      <td>0</td>\n",
       "      <td>0</td>\n",
       "      <td>1</td>\n",
       "      <td>0</td>\n",
       "      <td>0</td>\n",
       "      <td>0</td>\n",
       "      <td>0</td>\n",
       "      <td>...</td>\n",
       "      <td>0</td>\n",
       "      <td>0</td>\n",
       "      <td>1</td>\n",
       "      <td>0</td>\n",
       "      <td>0</td>\n",
       "      <td>1</td>\n",
       "      <td>0.418155</td>\n",
       "      <td>1.597666</td>\n",
       "      <td>-2.940311</td>\n",
       "      <td>0.314922</td>\n",
       "    </tr>\n",
       "    <tr>\n",
       "      <th>34</th>\n",
       "      <td>1.036666</td>\n",
       "      <td>-2.193954</td>\n",
       "      <td>0</td>\n",
       "      <td>0</td>\n",
       "      <td>1</td>\n",
       "      <td>1</td>\n",
       "      <td>0</td>\n",
       "      <td>0</td>\n",
       "      <td>0</td>\n",
       "      <td>0</td>\n",
       "      <td>...</td>\n",
       "      <td>1</td>\n",
       "      <td>0</td>\n",
       "      <td>0</td>\n",
       "      <td>0</td>\n",
       "      <td>1</td>\n",
       "      <td>0</td>\n",
       "      <td>0.821569</td>\n",
       "      <td>-0.826074</td>\n",
       "      <td>4.530048</td>\n",
       "      <td>-0.317742</td>\n",
       "    </tr>\n",
       "  </tbody>\n",
       "</table>\n",
       "<p>5 rows × 24 columns</p>\n",
       "</div>"
      ],
      "text/plain": [
       "         HTP       ATP  HM1_D  HM1_L  HM1_W  HM2_D  HM2_L  HM2_W  HM3_D  \\\n",
       "30 -0.558071  1.007151      0      1      0      1      0      0      0   \n",
       "31 -0.558071  2.074186      1      0      0      0      0      1      0   \n",
       "32 -2.152808 -1.660437      0      1      0      1      0      0      0   \n",
       "33 -0.026492  2.074186      1      0      0      1      0      0      0   \n",
       "34  1.036666 -2.193954      0      0      1      1      0      0      0   \n",
       "\n",
       "    HM3_L    ...     AM2_D  AM2_L  AM2_W  AM3_D  AM3_L  AM3_W      HTGD  \\\n",
       "30      0    ...         1      0      0      0      0      1 -0.388674   \n",
       "31      1    ...         0      0      1      0      0      1 -0.388674   \n",
       "32      1    ...         1      0      0      0      1      0 -1.195503   \n",
       "33      0    ...         0      0      1      0      0      1  0.418155   \n",
       "34      0    ...         1      0      0      0      1      0  0.821569   \n",
       "\n",
       "        ATGD  DiffFormPts    DiffLP  \n",
       "30  1.193709    -2.193275  0.525810  \n",
       "31  1.597666    -3.687346  0.314922  \n",
       "32 -0.422117    -0.699203 -0.212298  \n",
       "33  1.597666    -2.940311  0.314922  \n",
       "34 -0.826074     4.530048 -0.317742  \n",
       "\n",
       "[5 rows x 24 columns]"
      ]
     },
     "metadata": {},
     "output_type": "display_data"
    }
   ],
   "source": [
    "# Show the feature information by printing the first five rows\n",
    "print( \"\\nFeature values:\" )\n",
    "display(X_all.head())"
   ]
  },
  {
   "cell_type": "markdown",
   "metadata": {},
   "source": [
    "## Auxiliary functions"
   ]
  },
  {
   "cell_type": "code",
   "execution_count": 10,
   "metadata": {
    "collapsed": false
   },
   "outputs": [],
   "source": [
    "from sklearn.metrics import f1_score\n",
    "\n",
    "def train_classifier(clf, X_train, y_train):\n",
    "    ''' Fits a classifier to the training data. '''\n",
    "    \n",
    "    # Start the clock, train the classifier, then stop the clock\n",
    "    start = time.time()\n",
    "    clf.fit(X_train, y_train)\n",
    "    end = time.time()\n",
    "    \n",
    "    # Print the results\n",
    "    print(\"Trained model in {:.4f} seconds\".format(end - start) )\n",
    "\n",
    "    \n",
    "def predict_labels(clf, features, target):\n",
    "    ''' Makes predictions using a fit classifier based on F1 score. '''\n",
    "    \n",
    "    # Start the clock, make predictions, then stop the clock\n",
    "    start = time.time()\n",
    "    y_pred = clf.predict(features)\n",
    "    \n",
    "    end = time.time()\n",
    "    # Print and return results\n",
    "    print(\"Made predictions in {:.4f} seconds.\".format(end - start) )\n",
    "    \n",
    "    return f1_score(target, y_pred, pos_label='H'), sum(target == y_pred) / float(len(y_pred))\n",
    "\n",
    "\n",
    "def train_predict(clf, X_train, y_train, X_test, y_test):\n",
    "    ''' Train and predict using a classifer based on F1 score. '''\n",
    "    \n",
    "    # Indicate the classifier and the training set size\n",
    "    print(\"Training a {} using a training set size of {}. . .\".format(clf.__class__.__name__, len(X_train)) )\n",
    "    \n",
    "    # Train the classifier\n",
    "    train_classifier(clf, X_train, y_train)\n",
    "    \n",
    "    # Print the results of prediction for both training and testing\n",
    "    f1, acc = predict_labels(clf, X_train, y_train)\n",
    "    print(f1, acc)\n",
    "    print(\"F1 score and accuracy score for training set: {:.4f} , {:.4f}.\".format(f1 , acc))\n",
    "    \n",
    "    f1, acc = predict_labels(clf, X_test, y_test)\n",
    "    print(\"F1 score and accuracy score for test set: {:.4f} , {:.4f}.\".format(f1 , acc))"
   ]
  },
  {
   "cell_type": "code",
   "execution_count": 11,
   "metadata": {
    "collapsed": false
   },
   "outputs": [],
   "source": [
    "from sklearn.grid_search import GridSearchCV\n",
    "from sklearn.metrics import make_scorer\n",
    "from sklearn.externals import joblib\n",
    "\n",
    "# Tuning the parameters of XGBoost.\n",
    "def train_classifier(x):\n",
    "    #print('.')\n",
    "    normalization_coefficients = np.array([1, 100, 10, 10, 1, 1, 1, 10, 1e-3, 10])\n",
    "    \n",
    "    pars = np.array(x)*normalization_coefficients\n",
    "    # [0.1m 40, 3, 3, 0.4, 0.8, 0.8, 1, 1e-5, 2, 5]\n",
    "    parameters = { 'learning_rate' : [pars[0]],\n",
    "                   'n_estimators' : [int(pars[1])],\n",
    "                   'max_depth': [int(pars[2])],\n",
    "                   'min_child_weight': [int(pars[3])],\n",
    "                   'gamma':[pars[4]],\n",
    "                   'subsample' : [pars[5]],\n",
    "                   'colsample_bytree' : [pars[6]],\n",
    "                   'scale_pos_weight' : [pars[7]],\n",
    "                   'reg_alpha':[pars[8]]\n",
    "                 }  \n",
    "    \n",
    "    clf = xgb.XGBClassifier(random_state=int(pars[9]))\n",
    "    \n",
    "    f1_scorer = make_scorer(f1_score,pos_label='H')\n",
    "    \n",
    "    grid_obj = GridSearchCV(clf,\n",
    "                            scoring=f1_scorer,\n",
    "                            param_grid=parameters,\n",
    "                            cv=5)\n",
    "    \n",
    "    grid_obj = grid_obj.fit(X_train,y_train)\n",
    "    \n",
    "    \n",
    "    # Get the estimator\n",
    "    clf = grid_obj.best_estimator_\n",
    "    #print(clf)\n",
    "    \n",
    "    y_pred = clf.predict(X_train)    \n",
    "    f1_train = f1_score(y_train, y_pred, pos_label='H')\n",
    "    \n",
    "    y_pred = clf.predict(X_test)    \n",
    "    f1_test = f1_score(y_test, y_pred, pos_label='H')\n",
    "    \n",
    "    return f1_test, f1_test"
   ]
  },
  {
   "cell_type": "markdown",
   "metadata": {},
   "source": [
    "# STEP 1: select the portion of matches to be predicted (the X_test dataframe)"
   ]
  },
  {
   "cell_type": "code",
   "execution_count": 12,
   "metadata": {
    "collapsed": false,
    "scrolled": true
   },
   "outputs": [
    {
     "name": "stdout",
     "output_type": "stream",
     "text": [
      "(0.57311089303238461, 0.57311089303238461)\n"
     ]
    }
   ],
   "source": [
    "#X_all = X_all.iloc[:-N_MATCHES_TO_PREDICT, :]\n",
    "#y_all = y_all[:-N_MATCHES_TO_PREDICT]\n",
    "\n",
    "from sklearn.cross_validation import train_test_split\n",
    "# Shuffle and split the dataset into training and testing set.\n",
    "X_train, X_test, y_train, y_test = train_test_split(X_all, y_all, \n",
    "                                                    test_size = int(X_all.shape[0]*0.3),\n",
    "                                                    random_state = 2,\n",
    "                                                    stratify = y_all)\n",
    "\n",
    "# test\n",
    "print(train_classifier([0.1, 0.4, 0.3, 0.3, 0.4, 0.8, 0.8, 0.1, 1e-1, 0.2]))\n"
   ]
  },
  {
   "cell_type": "markdown",
   "metadata": {},
   "source": [
    "# STEP 2: Calibrate the classifier with a genetic algorithm"
   ]
  },
  {
   "cell_type": "code",
   "execution_count": 13,
   "metadata": {
    "collapsed": false
   },
   "outputs": [],
   "source": [
    "import random, numpy, multiprocessing, time\n",
    "from deap import base, creator, tools, algorithms"
   ]
  },
  {
   "cell_type": "code",
   "execution_count": 14,
   "metadata": {
    "collapsed": false
   },
   "outputs": [],
   "source": [
    "# Tune classifier with a neural network\n",
    "import random, multiprocessing, time\n",
    "from deap import base, creator, tools, algorithms\n",
    "\n",
    "# decorators function for mutation and cross-over\n",
    "def checkBounds(min, max):\n",
    "    def decorator(func):\n",
    "        def wrapper(*args, **kargs):\n",
    "            offspring = func(*args, **kargs)\n",
    "            for child in offspring:\n",
    "                for i in range(len(child)): #xrange(len(child)):\n",
    "                    if child[i] > max:\n",
    "                        child[i] = max\n",
    "                    elif child[i] < min:\n",
    "                        child[i] = min\n",
    "            return offspring\n",
    "        return wrapper\n",
    "    return decorator   \n",
    "\n",
    "IND_SIZE = 10\n",
    "creator.create(\"FitnessMin\", base.Fitness, weights=(1,1))#, weights=(0.001,10.0))\n",
    "creator.create(\"Individual\", list, fitness=creator.FitnessMin)\n",
    "\n",
    "toolbox = base.Toolbox()\n",
    "toolbox.register(\"attr_float\", random.random)\n",
    "toolbox.register(\"individual\", tools.initRepeat, creator.Individual, toolbox.attr_float, n=IND_SIZE)\n",
    "toolbox.register(\"population\", tools.initRepeat, list, toolbox.individual)\n",
    "   \n",
    "toolbox.register(\"mate\", tools.cxTwoPoint)\n",
    "toolbox.register(\"mutate\", tools.mutGaussian, mu=0, sigma=1, indpb=0.2)\n",
    "toolbox.register(\"select\", tools.selTournament, tournsize=3)\n",
    "toolbox.register(\"evaluate\", train_classifier)\n",
    "\n",
    "toolbox.decorate(\"mate\", checkBounds(0.001, 1))\n",
    "toolbox.decorate(\"mutate\", checkBounds(0.001, 1))\n",
    "\n",
    "\n",
    "t_start = time.time()\n",
    "\n",
    "random.seed(64)\n",
    " "
   ]
  },
  {
   "cell_type": "code",
   "execution_count": 15,
   "metadata": {
    "collapsed": false
   },
   "outputs": [],
   "source": [
    "# Process Pool of 4 workers\n",
    "#pool = multiprocessing.Pool(processes=4)\n",
    "#toolbox.register(\"map\", pool.map)\n",
    "if OPTIMIZE_HYPERPARAMETERS:\n",
    "    n_individuals = 300\n",
    "    n_populations = 20\n",
    "    pop = toolbox.population(n=n_individuals)\n",
    "    hof = tools.HallOfFame(n_populations)\n",
    "\n",
    "\n",
    "    stats = tools.Statistics(lambda ind: ind.fitness.values)\n",
    "    stats.register(\"avg\", np.mean)\n",
    "    stats.register(\"std\", np.std)\n",
    "    stats.register(\"min\", np.min)\n",
    "    stats.register(\"max\", np.max)\n",
    "\n",
    "\n",
    "    print(\"Started training\")\n",
    "    best_pop, logbook = algorithms.eaSimple(pop, toolbox, cxpb=0.5, mutpb=0.2, ngen=n_populations, \n",
    "                        stats=stats, halloffame=hof)\n",
    "\n",
    "    #pool.close()\n",
    "\n",
    "    print(\"Optimization done in\", time.time()-t_start, \"secs\")\n",
    "    \n",
    "    x_opt = hof[0]\n",
    "    print(\"Best individual is: %s\\nwith fitness: %s\" % (x_opt, x_opt.fitness))\n",
    "    #print(\"Achieved F1 and accurancy: \", F1_opt, acc_opt)\n",
    "\n",
    "    #joblib.dump(grid_obj.best_estimator_, 'classifier.pkl', compress = 1)\n",
    "    \n",
    "else:\n",
    "    x_opt =[0.16522059386019639, 0.18042810465105164, 0.21747378231676628,\n",
    "            0.001, 0.001, 0.798235085877988, 0.8056227427895258,\n",
    "            0.05325104138807635, 0.04135659238531564, 0.8188444724189075]"
   ]
  },
  {
   "cell_type": "code",
   "execution_count": 16,
   "metadata": {
    "collapsed": false
   },
   "outputs": [],
   "source": [
    "import matplotlib.pyplot as plt\n",
    "\n",
    "if OPTIMIZE_HYPERPARAMETERS:\n",
    "    gen, avg, min_, max_ = logbook.select(\"gen\", \"avg\", \"min\", \"max\")\n",
    "    plt.grid(True)\n",
    "    plt.plot(gen, avg, label=\"average\")\n",
    "    plt.plot(gen, min_, label=\"minimum\")\n",
    "    plt.plot(gen, max_, label=\"maximum\")\n",
    "    plt.xlabel(\"Generation\")\n",
    "    plt.ylabel(\"Fitness\")\n",
    "    plt.legend(loc=\"lower right\")\n",
    "    plt.show()"
   ]
  },
  {
   "cell_type": "markdown",
   "metadata": {},
   "source": [
    "# STEP 3: Train the classifier with the optimal hyperparameters"
   ]
  },
  {
   "cell_type": "code",
   "execution_count": 23,
   "metadata": {
    "collapsed": false
   },
   "outputs": [
    {
     "name": "stdout",
     "output_type": "stream",
     "text": [
      "Classification run with optimized hyperparameters\n",
      "XGBClassifier(base_score=0.5, booster='gbtree', colsample_bylevel=1,\n",
      "       colsample_bytree=0.80562274278952584, gamma=0.001,\n",
      "       learning_rate=0.16522059386019639, max_delta_step=0, max_depth=2,\n",
      "       min_child_weight=0, missing=None, n_estimators=18, n_jobs=1,\n",
      "       nthread=None, objective='binary:logistic', random_state=8,\n",
      "       reg_alpha=4.1356592385315641e-05, reg_lambda=1,\n",
      "       scale_pos_weight=0.53251041388076348, seed=None, silent=True,\n",
      "       subsample=0.79823508587798797)\n",
      "Made predictions in 0.0073 seconds.\n",
      "F1 score and accuracy score for training set: 0.6694 , 0.5804.\n",
      "Made predictions in 0.0026 seconds.\n",
      "F1 score and accuracy score for test set: 1.0000 , 1.0000.\n"
     ]
    }
   ],
   "source": [
    "# Shuffle and split the dataset into training and testing set.\n",
    "X_train, X_test, y_train, y_test = train_test_split(X_all, y_all, \n",
    "                                                    test_size = 2,\n",
    "                                                    random_state = 2,\n",
    "                                                    stratify = y_all)\n",
    "\n",
    "print(\"Classification run with optimized hyperparameters\")\n",
    "\n",
    "normalization_coefficients = np.array([1, 100, 10, 10, 1, 1, 1, 10, 1e-3, 10])\n",
    "    \n",
    "pars = np.array(x_opt)*normalization_coefficients\n",
    "\n",
    "parameters = {  'learning_rate' : [pars[0]],\n",
    "                'n_estimators' : [int(pars[1])],\n",
    "                'max_depth': [int(pars[2])],\n",
    "                'min_child_weight': [int(pars[3])],\n",
    "                'gamma':[pars[4]],\n",
    "                'subsample' : [pars[5]],\n",
    "                'colsample_bytree' : [pars[6]],\n",
    "                'scale_pos_weight' : [pars[7]],\n",
    "                'reg_alpha':[pars[8]]\n",
    "            }\n",
    "\n",
    "###### THIS IS TEMPORARI ########\n",
    "parameters = { 'learning_rate' : [0.03],'n_estimators' : [20],'max_depth': [5],'min_child_weight': [5],'gamma':[0.2],\n",
    "        'subsample':[0.8],'colsample_bytree':[0.8],'scale_pos_weight' : [1],'reg_alpha':[1e-2]}\n",
    "#################################\n",
    "\n",
    "clf = xgb.XGBClassifier(random_state=int(pars[9]))\n",
    "\n",
    "f1_scorer = make_scorer(f1_score,pos_label='H')\n",
    "\n",
    "grid_obj = GridSearchCV(clf,scoring=f1_scorer,param_grid=parameters,cv=5)\n",
    "\n",
    "grid_obj = grid_obj.fit(X_train,y_train)\n",
    "\n",
    "clf = grid_obj.best_estimator_\n",
    "print(clf)\n",
    "\n",
    "# Report the final F1 score for training and testing after parameter tuning\n",
    "f1, acc = predict_labels(clf, X_train, y_train)\n",
    "print(\"F1 score and accuracy score for training set: {:.4f} , {:.4f}.\".format(f1 , acc))\n",
    "    \n",
    "f1, acc = predict_labels(clf, X_test, y_test)\n",
    "print(\"F1 score and accuracy score for test set: {:.4f} , {:.4f}.\".format(f1 , acc))"
   ]
  },
  {
   "cell_type": "markdown",
   "metadata": {},
   "source": [
    "## Save the classifier"
   ]
  },
  {
   "cell_type": "code",
   "execution_count": 19,
   "metadata": {
    "collapsed": false
   },
   "outputs": [
    {
     "data": {
      "text/plain": [
       "['football_classifier_serieA_bis.pkl']"
      ]
     },
     "execution_count": 19,
     "metadata": {},
     "output_type": "execute_result"
    }
   ],
   "source": [
    "# from sklearn.externals import joblib\n",
    "joblib.dump(clf, out_classifierFilename)"
   ]
  },
  {
   "cell_type": "markdown",
   "metadata": {},
   "source": [
    "## Display the confusion matrix: only the diagonal elements should be coloured"
   ]
  },
  {
   "cell_type": "code",
   "execution_count": 20,
   "metadata": {
    "collapsed": false
   },
   "outputs": [],
   "source": [
    "from sklearn.metrics import confusion_matrix\n",
    "import itertools\n",
    "\n",
    "\n",
    "def plot_confusion_matrix(cm, classes,\n",
    "                          normalize=False,\n",
    "                          cmap=plt.cm.Blues):\n",
    "    \"\"\"\n",
    "    This function prints and plots the confusion matrix.\n",
    "    Normalization can be applied by setting `normalize=True`.\n",
    "    \"\"\"\n",
    "    title = 'Confusion matrix, without normalization'\n",
    "    if normalize:\n",
    "        cm = cm.astype('float') / cm.sum(axis=1)[:, np.newaxis]\n",
    "        title = \"Normalized confusion matrix\"\n",
    "\n",
    "    plt.imshow(cm, interpolation='nearest', cmap=cmap)\n",
    "    plt.title(title)\n",
    "    plt.colorbar()\n",
    "    tick_marks = np.arange(len(classes))\n",
    "    plt.xticks(tick_marks, classes, rotation=45)\n",
    "    plt.yticks(tick_marks, classes)\n",
    "\n",
    "    fmt = '.2f' if normalize else 'd'\n",
    "    thresh = cm.max() / 2.\n",
    "    for i, j in itertools.product(range(cm.shape[0]), range(cm.shape[1])):\n",
    "        plt.text(j, i, format(cm[i, j], fmt),\n",
    "                 horizontalalignment=\"center\",\n",
    "                 color=\"white\" if cm[i, j] > thresh else \"black\")\n",
    "\n",
    "    plt.tight_layout()\n",
    "    plt.ylabel('True label')\n",
    "    plt.xlabel('Predicted label')"
   ]
  },
  {
   "cell_type": "code",
   "execution_count": 21,
   "metadata": {
    "collapsed": false
   },
   "outputs": [
    {
     "data": {
      "image/png": "[encoded data removed]",
      "text/plain": [
       "<matplotlib.figure.Figure at 0x10a195d30>"
      ]
     },
     "metadata": {},
     "output_type": "display_data"
    }
   ],
   "source": [
    "y_pred = clf.predict(X_test)\n",
    "\n",
    "cnf_matrix = confusion_matrix(y_test, y_pred)\n",
    "np.set_printoptions(precision=2)\n",
    "\n",
    "plt.figure()\n",
    "plot_confusion_matrix(cnf_matrix, classes=['Home', 'NotHome'], normalize=True)\n",
    "\n",
    "plt.show()\n"
   ]
  },
  {
   "cell_type": "code",
   "execution_count": null,
   "metadata": {
    "collapsed": true
   },
   "outputs": [],
   "source": []
  },
  {
   "cell_type": "code",
   "execution_count": null,
   "metadata": {
    "collapsed": true
   },
   "outputs": [],
   "source": []
  },
  {
   "cell_type": "code",
   "execution_count": null,
   "metadata": {
    "collapsed": true
   },
   "outputs": [],
   "source": []
  }
 ],
 "metadata": {
  "anaconda-cloud": {},
  "kernelspec": {
   "display_name": "Python 3",
   "language": "python",
   "name": "python3"
  },
  "language_info": {
   "codemirror_mode": {
    "name": "ipython",
    "version": 3
   },
   "file_extension": ".py",
   "mimetype": "text/x-python",
   "name": "python",
   "nbconvert_exporter": "python",
   "pygments_lexer": "ipython3",
   "version": "3.6.2"
  }
 },
 "nbformat": 4,
 "nbformat_minor": 1
}
