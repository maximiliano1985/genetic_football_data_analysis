{
 "cells": [
  {
   "cell_type": "code",
   "execution_count": 1,
   "metadata": {
    "collapsed": true
   },
   "outputs": [],
   "source": [
    "import numpy as np\n",
    "import pandas as pd\n",
    "from datetime import datetime as dt\n",
    "import itertools\n",
    "import copy\n",
    "from scipy.stats import entropy\n",
    "import matplotlib.pyplot as plt\n",
    "\n",
    "%matplotlib inline\n",
    "\n",
    "pd.options.mode.chained_assignment = None  # default='warn'"
   ]
  },
  {
   "cell_type": "code",
   "execution_count": 2,
   "metadata": {
    "collapsed": false
   },
   "outputs": [],
   "source": [
    "# Read data from the CSV into a dataframe\n",
    "\n",
    "loc = \"../Datasets/serie_A/\"\n",
    "\n",
    "in_filestandings = loc + \"ISAStandings.csv\"\n",
    "\n",
    "raw_data_18 = pd.read_csv(loc + 'final_dataset_serieA_extended.csv')"
   ]
  },
  {
   "cell_type": "code",
   "execution_count": 3,
   "metadata": {
    "collapsed": false
   },
   "outputs": [],
   "source": [
    "# Parse data as time \n",
    "def parse_date(date):\n",
    "    if date == '':\n",
    "        return None\n",
    "    else:\n",
    "        return dt.strptime(date, '%d/%m/%y').date()\n",
    "    \n",
    "\n",
    "def parse_date_other(date):\n",
    "    if date == '':\n",
    "        return None\n",
    "    else:\n",
    "        return dt.strptime(date, '%d/%m/%Y').date()\n",
    "\n",
    "#raw_data_18.Date = raw_data_18.Date.apply(parse_date)"
   ]
  },
  {
   "cell_type": "code",
   "execution_count": 4,
   "metadata": {
    "collapsed": true
   },
   "outputs": [],
   "source": [
    "playing_statistics_18 = raw_data_18"
   ]
  },
  {
   "cell_type": "code",
   "execution_count": 5,
   "metadata": {
    "collapsed": false
   },
   "outputs": [],
   "source": [
    "def get_scores(playing_stat, team):\n",
    "    scoresHome = pd.DataFrame({\n",
    "         'Attack':  playing_stat[playing_stat.HomeTeam == team].HomeAttack,\n",
    "         'Medium':  playing_stat[playing_stat.HomeTeam == team].HomeMedium,\n",
    "         'Defense': playing_stat[playing_stat.HomeTeam == team].HomeDefense,\n",
    "         'GK': playing_stat[playing_stat.HomeTeam == team].HomeGK,\n",
    "         'Total' : playing_stat[playing_stat.HomeTeam == team].HomeAttack+\\\n",
    "                    playing_stat[playing_stat.HomeTeam == team].HomeMedium+\\\n",
    "                    playing_stat[playing_stat.HomeTeam == team].HomeDefense+\\\n",
    "                    playing_stat[playing_stat.HomeTeam == team].HomeGK})\n",
    "    scoresAway = pd.DataFrame({\n",
    "         'Attack': playing_stat[playing_stat.AwayTeam == team].AwayAttack,\n",
    "         'Medium':playing_stat[playing_stat.AwayTeam == team].AwayMedium,\n",
    "         'Defense': playing_stat[playing_stat.AwayTeam == team].AwayDefense,\n",
    "         'GK': playing_stat[playing_stat.AwayTeam == team].AwayGK,\n",
    "         'Total' : playing_stat[playing_stat.AwayTeam == team].AwayAttack+\\\n",
    "                    playing_stat[playing_stat.AwayTeam == team].AwayMedium+\\\n",
    "                    playing_stat[playing_stat.AwayTeam == team].AwayDefense+\\\n",
    "                    playing_stat[playing_stat.AwayTeam == team].AwayGK})\n",
    "    return scoresHome, scoresAway\n",
    "\n",
    "def plot_team(team, row_number, n_rows):\n",
    "    scoresHome, scoresAway = get_scores(playing_statistics_18, team)\n",
    "    n_data, _ = scoresHome.shape\n",
    "    n_data = np.arange(n_data)\n",
    "    plt.subplot(n_rows,2,row_number)\n",
    "    plt.plot(n_data, scoresHome.Attack, label='Attack')\n",
    "    plt.plot(n_data, scoresHome.Medium, label='Medium')\n",
    "    plt.plot(n_data, scoresHome.Defense, label='Defense')\n",
    "    plt.plot(n_data, scoresHome.GK, label='GK')\n",
    "    plt.plot(n_data, scoresHome.Total, label='Total')\n",
    "    plt.axhline(0, color='k')\n",
    "    plt.title(team+' home')\n",
    "    plt.legend()\n",
    "    plt.grid()\n",
    "    \n",
    "    n_data, _ = scoresAway.shape\n",
    "    n_data = np.arange(n_data)\n",
    "    plt.subplot(n_rows,2,(row_number+1) )\n",
    "    plt.plot(n_data, scoresAway.Attack)\n",
    "    plt.plot(n_data, scoresAway.Medium)\n",
    "    plt.plot(n_data, scoresAway.Defense)\n",
    "    plt.plot(n_data, scoresAway.GK)\n",
    "    plt.plot(n_data, scoresAway.Total)\n",
    "    plt.axhline(0, color='k')\n",
    "    plt.title(team+ ' away')\n",
    "    plt.grid()\n",
    "    #plt.legend()"
   ]
  },
  {
   "cell_type": "code",
   "execution_count": 8,
   "metadata": {
    "collapsed": false,
    "scrolled": true
   },
   "outputs": [
    {
     "name": "stdout",
     "output_type": "stream",
     "text": [
      "['Atalanta' 'Bari' 'Benevento' 'Bologna' 'Brescia' 'Cagliari' 'Carpi'\n",
      " 'Catania' 'Cesena' 'Chievo' 'Crotone' 'Empoli' 'Fiorentina' 'Frosinone'\n",
      " 'Genoa' 'Inter' 'Juventus' 'Lazio' 'Lecce' 'Livorno' 'Milan' 'Napoli'\n",
      " 'Novara' 'Palermo' 'Parma' 'Pescara' 'Roma' 'Sampdoria' 'Sassuolo' 'Siena'\n",
      " 'Spal' 'Torino' 'Udinese' 'Verona']\n"
     ]
    },
    {
     "ename": "IndexError",
     "evalue": "string index out of range",
     "output_type": "error",
     "traceback": [
      "\u001b[0;31m---------------------------------------------------------------------------\u001b[0m",
      "\u001b[0;31mIndexError\u001b[0m                                Traceback (most recent call last)",
      "\u001b[0;32m<ipython-input-8-7f7bdd56d0b0>\u001b[0m in \u001b[0;36m<module>\u001b[0;34m()\u001b[0m\n\u001b[1;32m      6\u001b[0m \u001b[0mplt\u001b[0m\u001b[0;34m.\u001b[0m\u001b[0mfigure\u001b[0m\u001b[0;34m(\u001b[0m\u001b[0mfigsize\u001b[0m\u001b[0;34m=\u001b[0m\u001b[0;34m(\u001b[0m\u001b[0;36m20\u001b[0m\u001b[0;34m,\u001b[0m \u001b[0;36m100\u001b[0m\u001b[0;34m)\u001b[0m\u001b[0;34m)\u001b[0m\u001b[0;34m\u001b[0m\u001b[0m\n\u001b[1;32m      7\u001b[0m \u001b[0;32mfor\u001b[0m \u001b[0mteam\u001b[0m \u001b[0;32min\u001b[0m \u001b[0mteam_names\u001b[0m\u001b[0;34m:\u001b[0m\u001b[0;34m\u001b[0m\u001b[0m\n\u001b[0;32m----> 8\u001b[0;31m     \u001b[0mplot_team\u001b[0m\u001b[0;34m(\u001b[0m\u001b[0mteam\u001b[0m\u001b[0;34m[\u001b[0m\u001b[0;34m-\u001b[0m\u001b[0;36m6\u001b[0m\u001b[0;34m]\u001b[0m\u001b[0;34m,\u001b[0m \u001b[0mi\u001b[0m\u001b[0;34m,\u001b[0m \u001b[0mlen\u001b[0m\u001b[0;34m(\u001b[0m\u001b[0mteam_names\u001b[0m\u001b[0;34m)\u001b[0m\u001b[0;34m)\u001b[0m\u001b[0;34m\u001b[0m\u001b[0m\n\u001b[0m\u001b[1;32m      9\u001b[0m \u001b[0;34m\u001b[0m\u001b[0m\n\u001b[1;32m     10\u001b[0m     \u001b[0mi\u001b[0m\u001b[0;34m+=\u001b[0m\u001b[0;36m2\u001b[0m\u001b[0;34m\u001b[0m\u001b[0m\n",
      "\u001b[0;31mIndexError\u001b[0m: string index out of range"
     ]
    },
    {
     "data": {
      "image/png": "[encoded data removed]",
      "text/plain": [
       "<matplotlib.figure.Figure at 0x10d6b9390>"
      ]
     },
     "metadata": {},
     "output_type": "display_data"
    }
   ],
   "source": [
    "team_names = np.sort( playing_statistics_18.HomeTeam.unique() )\n",
    "print(np.sort( playing_statistics_18.HomeTeam.unique() ))\n",
    "\n",
    "i = 1;\n",
    "\n",
    "plt.figure(figsize=(20, 100))\n",
    "for team in team_names:\n",
    "    plot_team(team, i, len(team_names))\n",
    "    \n",
    "    i+=2\n",
    "\n",
    "plt.savefig('team scores.eps')"
   ]
  },
  {
   "cell_type": "code",
   "execution_count": 7,
   "metadata": {
    "collapsed": false
   },
   "outputs": [
    {
     "name": "stdout",
     "output_type": "stream",
     "text": [
      "            Date   HomeTeam  AwayTeam FTR       HTP       ATP  HomeAttack  \\\n",
      "3044  2017-08-20    Crotone     Milan   A  0.000000  0.000000       12.30   \n",
      "3056  2017-08-27      Milan  Cagliari   H  1.500000  0.000000       22.80   \n",
      "3066  2017-09-10      Lazio     Milan   H  1.333333  2.000000       25.90   \n",
      "3074  2017-09-17      Milan   Udinese   H  1.500000  0.750000       45.20   \n",
      "3086  2017-09-20      Milan      Spal   H  1.800000  0.800000       43.40   \n",
      "3096  2017-09-24  Sampdoria     Milan   H  1.833333  2.000000       22.00   \n",
      "3105  2017-10-01      Milan      Roma   A  1.714286  2.142857       13.30   \n",
      "3115  2017-10-15      Inter     Milan   H  2.375000  1.500000       31.50   \n",
      "3125  2017-10-22      Milan     Genoa   D  1.333333  0.555556       20.40   \n",
      "3133  2017-10-25     Chievo     Milan   A  1.500000  1.300000       19.90   \n",
      "3139  2017-10-28      Milan  Juventus   A  1.300000  2.200000       19.10   \n",
      "3157  2017-11-05   Sassuolo     Milan   A  0.666667  1.333333       18.90   \n",
      "3159  2017-11-17     Napoli     Milan   D  2.583333  1.333333       23.36   \n",
      "\n",
      "      HomeMedium  HomeDefense  HomeGK  AwayAttack  AwayMedium  AwayDefense  \\\n",
      "3044       25.10        23.80    7.00        23.8   22.600000    29.400000   \n",
      "3056       18.50        27.10    6.80        21.4   20.100000    25.300000   \n",
      "3066       28.30        20.80    7.50        18.7   19.000000    24.200000   \n",
      "3074        7.20        18.90    6.40        32.7    6.300000    26.500000   \n",
      "3086        7.70        21.80    6.70        12.1   31.900000    19.400000   \n",
      "3096       21.50        28.20    6.80        12.4   31.300000    19.500000   \n",
      "3105       29.70        18.00    5.70        23.2   21.100000    29.300000   \n",
      "3115       13.80        26.00    6.70        14.2   32.500000    19.200000   \n",
      "3125       28.80        19.60    6.80        12.5   32.200000    22.600000   \n",
      "3133       18.50        23.70    5.40        24.1   21.400000    27.900000   \n",
      "3139       25.30        18.40    5.80        30.7   13.800000    29.400000   \n",
      "3157       18.60        25.90    7.80        22.0   29.300000    23.700000   \n",
      "3159       22.34        29.56    6.66        19.2   26.016667    23.983333   \n",
      "\n",
      "      AwayGK  \n",
      "3044    7.40  \n",
      "3056    6.30  \n",
      "3066    6.00  \n",
      "3074    6.70  \n",
      "3086    6.30  \n",
      "3096    5.70  \n",
      "3105    7.40  \n",
      "3115    6.00  \n",
      "3125    8.10  \n",
      "3133    6.30  \n",
      "3139    7.30  \n",
      "3157    7.30  \n",
      "3159    6.45  \n"
     ]
    },
    {
     "data": {
      "image/png": "[encoded data removed]",
      "text/plain": [
       "<matplotlib.figure.Figure at 0x10db6aba8>"
      ]
     },
     "metadata": {},
     "output_type": "display_data"
    }
   ],
   "source": [
    "milan_all = raw_data_18[(raw_data_18.HomeTeam == 'Milan') | (raw_data_18.AwayTeam == 'Milan')]\n",
    "milan = milan_all.loc[3044:, :]#milan_all[ milan_all.Date > dt(2017, 7, 1)]\n",
    "\n",
    "milan.drop(['Unnamed: 0', 'MW', 'HTFormPtsStr', 'ATFormPtsStr', 'FTHG', 'FTAG',\n",
    "           'HTGS', 'ATGS', 'HTGC', 'ATGC','HomeTeamLP', 'AwayTeamLP','DiffPts','HTFormPts','ATFormPts',\n",
    "           'HM4','AM4','HTLossStreak5','ATLossStreak5','HTWinStreak5','ATWinStreak5',\n",
    "           'HTWinStreak3','HTLossStreak3','ATWinStreak3','ATLossStreak3', 'ENTROPY_B365', 'ENTROPY_BW',\n",
    "           'ENTROPY_IW', 'ENTROPY_LB', 'ENTROPY_WH', 'ENTROPY_H', 'ENTROPY_D', 'ENTROPY_A',\n",
    "           'B365H', 'BWH', 'IWH', 'LBH', 'WHH', 'B365D', 'BWD', 'IWD', 'LBD', 'WHD', 'B365A', 'BWA', 'IWA',\n",
    "            'LBA', 'WHA',\n",
    "            'HM1', 'HM2', 'HM3', 'AM1', 'AM2', 'AM3', 'HTGD', 'ATGD', 'DiffFormPts',  'DiffLP',  'HomeScores',  'AwayScores',  'HomeAwayDifference'],1, inplace=True)\n",
    "\n",
    "print(milan)\n",
    "\n",
    "mh = milan[milan.HomeTeam == 'Milan']\n",
    "ma = milan[milan.AwayTeam == 'Milan']\n",
    "n_data, _ = mh.shape\n",
    "n_data = np.arange(n_data)\n",
    "plt.plot(mh.HomeAttack, label='HomeAttack')\n",
    "plt.plot(ma.AwayAttack, label='AwayAttack')\n",
    "plt.legend()\n",
    "plt.grid()"
   ]
  },
  {
   "cell_type": "code",
   "execution_count": null,
   "metadata": {
    "collapsed": true
   },
   "outputs": [],
   "source": []
  },
  {
   "cell_type": "code",
   "execution_count": null,
   "metadata": {
    "collapsed": true
   },
   "outputs": [],
   "source": []
  },
  {
   "cell_type": "code",
   "execution_count": null,
   "metadata": {
    "collapsed": true
   },
   "outputs": [],
   "source": []
  }
 ],
 "metadata": {
  "anaconda-cloud": {},
  "kernelspec": {
   "display_name": "Python 3",
   "language": "python",
   "name": "python3"
  },
  "language_info": {
   "codemirror_mode": {
    "name": "ipython",
    "version": 3
   },
   "file_extension": ".py",
   "mimetype": "text/x-python",
   "name": "python",
   "nbconvert_exporter": "python",
   "pygments_lexer": "ipython3",
   "version": "3.6.2"
  }
 },
 "nbformat": 4,
 "nbformat_minor": 1
}
